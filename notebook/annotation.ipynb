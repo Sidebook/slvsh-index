{
 "cells": [
  {
   "cell_type": "code",
   "execution_count": null,
   "metadata": {},
   "outputs": [],
   "source": [
    "import os\n",
    "import cv2\n",
    "import json\n",
    "import matplotlib.pyplot as plt\n",
    "\n",
    "# Directory containing the images\n",
    "image_dir = os.path.join(os.path.dirname(os.path.abspath('')), 'slvsh-tr/slvsh_tr/assets/img')\n",
    "tests_json_path = os.path.join(os.path.dirname(os.path.abspath('')), 'slvsh-tr/slvsh_tr/assets/examples.json')\n",
    "\n",
    "# Get all image files in the directory\n",
    "image_files = [f for f in os.listdir(image_dir) if f.lower().endswith('.png')]\n",
    "\n",
    "# Sort the files to ensure consistent order\n",
    "image_files.sort()\n",
    "\n",
    "# Iterate through all images\n",
    "with open(tests_json_path, 'r') as f:\n",
    "    json_data = json.load(f)\n",
    "existing = {d['image_path'] for d in json_data}\n",
    "\n",
    "for image_file in image_files:\n",
    "    # Construct the full path to the image\n",
    "    image_path = os.path.join(image_dir, image_file)\n",
    "    if image_path in existing:\n",
    "        continue\n",
    "    \n",
    "    # Open and display the image\n",
    "    img = cv2.imread(image_path)\n",
    "    # Convert BGR to RGB\n",
    "    img_rgb = cv2.cvtColor(img, cv2.COLOR_BGR2RGB)\n",
    "    # Display the image\n",
    "    plt.close()  # Close the current figure\n",
    "    plt.figure()  # Create a new figure\n",
    "    plt.imshow(img_rgb)\n",
    "    plt.axis('off')\n",
    "    plt.show()\n",
    "    expected = input('Enter trick name')\n",
    "    if expected == 'q':\n",
    "        break\n",
    "    obj = {\n",
    "        \"image_path\": image_path,\n",
    "        \"expected\": expected\n",
    "    }\n",
    "    json_data.append(obj)\n",
    "    with open(tests_json_path, 'w') as f:\n",
    "        json.dump(json_data, f, indent = 2)\n",
    "\n"
   ]
  },
  {
   "cell_type": "code",
   "execution_count": null,
   "metadata": {},
   "outputs": [],
   "source": []
  },
  {
   "cell_type": "code",
   "execution_count": null,
   "metadata": {},
   "outputs": [],
   "source": []
  },
  {
   "cell_type": "code",
   "execution_count": null,
   "metadata": {},
   "outputs": [],
   "source": []
  }
 ],
 "metadata": {
  "kernelspec": {
   "display_name": "Python 3",
   "language": "python",
   "name": "python3"
  },
  "language_info": {
   "codemirror_mode": {
    "name": "ipython",
    "version": 3
   },
   "file_extension": ".py",
   "mimetype": "text/x-python",
   "name": "python",
   "nbconvert_exporter": "python",
   "pygments_lexer": "ipython3",
   "version": "3.12.7"
  }
 },
 "nbformat": 4,
 "nbformat_minor": 2
}
