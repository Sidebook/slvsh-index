{
 "cells": [
  {
   "cell_type": "code",
   "execution_count": 4,
   "metadata": {},
   "outputs": [],
   "source": [
    "from slvsh_tr import load_examples\n",
    "import cv2\n",
    "import matplotlib.pyplot as plt\n",
    "\n",
    "examples = load_examples()\n",
    "\n"
   ]
  },
  {
   "cell_type": "code",
   "execution_count": 5,
   "metadata": {},
   "outputs": [
    {
     "data": {
      "image/png": "[encoded data removed]",
      "text/plain": [
       "<Figure size 1000x35.2941 with 1 Axes>"
      ]
     },
     "metadata": {},
     "output_type": "display_data"
    },
    {
     "data": {
      "image/png": "[encoded data removed]",
      "text/plain": [
       "<Figure size 1000x35.2941 with 1 Axes>"
      ]
     },
     "metadata": {},
     "output_type": "display_data"
    },
    {
     "data": {
      "image/png": "[encoded data removed]",
      "text/plain": [
       "<Figure size 1000x35.2941 with 1 Axes>"
      ]
     },
     "metadata": {},
     "output_type": "display_data"
    },
    {
     "data": {
      "image/png": "[encoded data removed]",
      "text/plain": [
       "<Figure size 1000x35.2941 with 1 Axes>"
      ]
     },
     "metadata": {},
     "output_type": "display_data"
    },
    {
     "name": "stdout",
     "output_type": "stream",
     "text": [
      "テキスト領域: (502, 0, 93, 21)\n"
     ]
    },
    {
     "data": {
      "image/png": "[encoded data removed]",
      "text/plain": [
       "<Figure size 1000x225.806 with 1 Axes>"
      ]
     },
     "metadata": {},
     "output_type": "display_data"
    },
    {
     "data": {
      "text/plain": [
       "'SW6, F2.'"
      ]
     },
     "execution_count": 5,
     "metadata": {},
     "output_type": "execute_result"
    }
   ],
   "source": [
    "from slvsh_tr import Recognizer\n",
    "import cv2\n",
    "import pytesseract\n",
    "import numpy as np\n",
    "\n",
    "def display_image(image: cv2.typing.MatLike):\n",
    "    height, width = image.shape[:2]\n",
    "    plt.figure(figsize=(10, 10 / width * height))\n",
    "    plt.axis('off')\n",
    "    plt.imshow(cv2.cvtColor(image, cv2.COLOR_BGR2RGB))\n",
    "    plt.show()\n",
    "\n",
    "class TesseractFindRectWhitningRecognizer(Recognizer):\n",
    "    def __init__(self, debug: bool = False):\n",
    "        self.debug = debug\n",
    "\n",
    "    def whiten_kinjiro_color(self, image: cv2.typing.MatLike) -> cv2.typing.MatLike:\n",
    "        # BGRからHSV色空間に変換\n",
    "        hsv_image = cv2.cvtColor(image, cv2.COLOR_BGR2HSV)\n",
    "        \n",
    "        # 緑色の範囲を定義（HSV色空間）\n",
    "        lower_green = np.array([40, 40, 40])\n",
    "        upper_green = np.array([80, 255, 255])\n",
    "        \n",
    "        # 赤色の範囲を定義（HSV色空間）\n",
    "        lower_red1 = np.array([0, 40, 40])\n",
    "        upper_red1 = np.array([10, 255, 255])\n",
    "        lower_red2 = np.array([170, 40, 40])\n",
    "        upper_red2 = np.array([180, 255, 255])\n",
    "        \n",
    "        # マスクの作成\n",
    "        mask_green = cv2.inRange(hsv_image, lower_green, upper_green)\n",
    "        mask_red1 = cv2.inRange(hsv_image, lower_red1, upper_red1)\n",
    "        mask_red2 = cv2.inRange(hsv_image, lower_red2, upper_red2)\n",
    "        mask = cv2.bitwise_or(mask_green, cv2.bitwise_or(mask_red1, mask_red2))\n",
    "        \n",
    "        # 結果画像の作成\n",
    "        result = image.copy()\n",
    "        result[mask > 0] = [255, 255, 255]\n",
    "        \n",
    "        if self.debug:\n",
    "            display_image(result)\n",
    "            # マスクされた領域を可視化\n",
    "            masked_image = cv2.bitwise_and(image, image, mask=mask)\n",
    "            display_image(masked_image)\n",
    "        \n",
    "        return result\n",
    "\n",
    "    def find_text_region(self, image: cv2.typing.MatLike) -> tuple:\n",
    "        height, width = image.shape[:2]\n",
    "        \n",
    "        gray = cv2.cvtColor(image, cv2.COLOR_BGR2GRAY)\n",
    "        _, binary = cv2.threshold(gray, 240, 255, cv2.THRESH_BINARY)\n",
    "        \n",
    "        contours, _ = cv2.findContours(binary, cv2.RETR_EXTERNAL, cv2.CHAIN_APPROX_SIMPLE)\n",
    "\n",
    "        if self.debug:\n",
    "            display_image(gray)\n",
    "            display_image(binary)\n",
    "        \n",
    "        text_regions = []\n",
    "        for contour in contours:\n",
    "            x, y, w, h = cv2.boundingRect(contour)\n",
    "            if w > width * 0.1 and h > height * 0.05:\n",
    "                text_regions.append((x, y, w, h))\n",
    "        \n",
    "        if text_regions:\n",
    "            return max(text_regions, key=lambda r: r[2] * r[3])\n",
    "        \n",
    "        return None\n",
    "\n",
    "    def infer(self, image: cv2.typing.MatLike) -> str:\n",
    "        height, width = image.shape[:2]\n",
    "        roi = image[int(height * 0.87):int(height * 0.93), int(width * 0.035):int(width * 0.965)]\n",
    "        \n",
    "        original_roi = roi.copy()\n",
    "        roi = self.whiten_kinjiro_color(roi)\n",
    "        \n",
    "        text_region = self.find_text_region(roi)\n",
    "        config='--psm 7 -c tessedit_char_whitelist=\"ABCDEFGHIJKLMNOPQRSTUVWXYZ0123456789,. \"'\n",
    "\n",
    "        if self.debug:\n",
    "            print(f\"テキスト領域: {text_region}\")\n",
    "\n",
    "        if text_region is None:\n",
    "            target_image = original_roi\n",
    "        else:\n",
    "            x, y, w, h = text_region\n",
    "            target_image = original_roi[y:y+h, x:x+w]\n",
    "\n",
    "        extracted_text = pytesseract.image_to_string(target_image, config=config).strip()\n",
    "\n",
    "        if self.debug:\n",
    "            display_image(target_image)\n",
    "\n",
    "        return extracted_text\n",
    "\n",
    "model = TesseractFindRectWhitningRecognizer(debug=True)\n",
    "model.infer(examples[72].get_image())"
   ]
  },
  {
   "cell_type": "code",
   "execution_count": 6,
   "metadata": {},
   "outputs": [
    {
     "data": {
      "image/png": "[encoded data removed]",
      "text/plain": [
       "<Figure size 1000x35.2941 with 1 Axes>"
      ]
     },
     "metadata": {},
     "output_type": "display_data"
    },
    {
     "data": {
      "image/png": "[encoded data removed]",
      "text/plain": [
       "<Figure size 1000x35.2941 with 1 Axes>"
      ]
     },
     "metadata": {},
     "output_type": "display_data"
    },
    {
     "data": {
      "image/png": "[encoded data removed]",
      "text/plain": [
       "<Figure size 1000x35.2941 with 1 Axes>"
      ]
     },
     "metadata": {},
     "output_type": "display_data"
    },
    {
     "data": {
      "image/png": "[encoded data removed]",
      "text/plain": [
       "<Figure size 1000x35.2941 with 1 Axes>"
      ]
     },
     "metadata": {},
     "output_type": "display_data"
    },
    {
     "name": "stdout",
     "output_type": "stream",
     "text": [
      "テキスト領域: (502, 0, 93, 21)\n"
     ]
    },
    {
     "data": {
      "image/png": "[encoded data removed]",
      "text/plain": [
       "<Figure size 1000x225.806 with 1 Axes>"
      ]
     },
     "metadata": {},
     "output_type": "display_data"
    },
    {
     "data": {
      "text/plain": [
       "'SW6, F2.'"
      ]
     },
     "execution_count": 6,
     "metadata": {},
     "output_type": "execute_result"
    }
   ],
   "source": [
    "from slvsh_tr import Recognizer\n",
    "import cv2\n",
    "import pytesseract\n",
    "import numpy as np\n",
    "\n",
    "def display_image(image: cv2.typing.MatLike):\n",
    "    height, width = image.shape[:2]\n",
    "    plt.figure(figsize=(10, 10 / width * height))\n",
    "    plt.axis('off')\n",
    "    plt.imshow(cv2.cvtColor(image, cv2.COLOR_BGR2RGB))\n",
    "    plt.show()\n",
    "\n",
    "class TesseractFindRectWhitningRecognizer(Recognizer):\n",
    "    def __init__(self, debug: bool = False):\n",
    "        self.debug = debug\n",
    "\n",
    "    def whiten_kinjiro_color(self, image: cv2.typing.MatLike) -> cv2.typing.MatLike:\n",
    "        # BGRからHSV色空間に変換\n",
    "        hsv_image = cv2.cvtColor(image, cv2.COLOR_BGR2HSV)\n",
    "        \n",
    "        # 緑色の範囲を定義（HSV色空間）\n",
    "        lower_green = np.array([40, 40, 40])\n",
    "        upper_green = np.array([80, 255, 255])\n",
    "        \n",
    "        # 赤色の範囲を定義（HSV色空間）\n",
    "        lower_red1 = np.array([0, 40, 40])\n",
    "        upper_red1 = np.array([10, 255, 255])\n",
    "        lower_red2 = np.array([170, 40, 40])\n",
    "        upper_red2 = np.array([180, 255, 255])\n",
    "        \n",
    "        # マスクの作成\n",
    "        mask_green = cv2.inRange(hsv_image, lower_green, upper_green)\n",
    "        mask_red1 = cv2.inRange(hsv_image, lower_red1, upper_red1)\n",
    "        mask_red2 = cv2.inRange(hsv_image, lower_red2, upper_red2)\n",
    "        mask = cv2.bitwise_or(mask_green, cv2.bitwise_or(mask_red1, mask_red2))\n",
    "        \n",
    "        # 結果画像の作成\n",
    "        result = image.copy()\n",
    "        result[mask > 0] = [255, 255, 255]\n",
    "        \n",
    "        if self.debug:\n",
    "            display_image(result)\n",
    "            # マスクされた領域を可視化\n",
    "            masked_image = cv2.bitwise_and(image, image, mask=mask)\n",
    "            display_image(masked_image)\n",
    "        \n",
    "        return result\n",
    "\n",
    "    def find_text_region(self, image: cv2.typing.MatLike) -> tuple:\n",
    "        height, width = image.shape[:2]\n",
    "        \n",
    "        gray = cv2.cvtColor(image, cv2.COLOR_BGR2GRAY)\n",
    "        _, binary = cv2.threshold(gray, 240, 255, cv2.THRESH_BINARY)\n",
    "        \n",
    "        contours, _ = cv2.findContours(binary, cv2.RETR_EXTERNAL, cv2.CHAIN_APPROX_SIMPLE)\n",
    "\n",
    "        if self.debug:\n",
    "            display_image(gray)\n",
    "            display_image(binary)\n",
    "        \n",
    "        text_regions = []\n",
    "        for contour in contours:\n",
    "            x, y, w, h = cv2.boundingRect(contour)\n",
    "            if w > width * 0.1 and h > height * 0.9:  # 高さの条件を変更\n",
    "                text_regions.append((x, y, w, h))\n",
    "        \n",
    "        if text_regions:\n",
    "            return max(text_regions, key=lambda r: r[2])  # 幅が最大のものを選択\n",
    "        \n",
    "        return None\n",
    "\n",
    "    def infer(self, image: cv2.typing.MatLike) -> str:\n",
    "        height, width = image.shape[:2]\n",
    "        roi = image[int(height * 0.87):int(height * 0.93), int(width * 0.035):int(width * 0.965)]\n",
    "        \n",
    "        original_roi = roi.copy()\n",
    "        roi = self.whiten_kinjiro_color(roi)\n",
    "        \n",
    "        text_region = self.find_text_region(roi)\n",
    "        config='--psm 7 -c tessedit_char_whitelist=\"ABCDEFGHIJKLMNOPQRSTUVWXYZ0123456789,. \"'\n",
    "\n",
    "        if self.debug:\n",
    "            print(f\"テキスト領域: {text_region}\")\n",
    "\n",
    "        if text_region is None:\n",
    "            target_image = original_roi\n",
    "        else:\n",
    "            x, y, w, h = text_region\n",
    "            target_image = original_roi[y:y+h, x:x+w]\n",
    "\n",
    "        extracted_text = pytesseract.image_to_string(target_image, config=config).strip()\n",
    "\n",
    "        if self.debug:\n",
    "            display_image(target_image)\n",
    "\n",
    "        return extracted_text\n",
    "\n",
    "model = TesseractFindRectWhitningRecognizer(debug=True)\n",
    "model.infer(examples[72].get_image())"
   ]
  },
  {
   "cell_type": "code",
   "execution_count": 7,
   "metadata": {},
   "outputs": [
    {
     "name": "stderr",
     "output_type": "stream",
     "text": [
      "Evaluating examples: 100%|██████████| 178/178 [01:34<00:00,  1.88it/s]\n"
     ]
    },
    {
     "data": {
      "text/plain": [
       "precision    0.744961\n",
       "recall       0.938532\n",
       "f1           0.732063\n",
       "dtype: float64"
      ]
     },
     "execution_count": 7,
     "metadata": {},
     "output_type": "execute_result"
    }
   ],
   "source": [
    "from slvsh_tr import eval\n",
    "import pandas as pd\n",
    "\n",
    "model = TesseractFindRectWhitningRecognizer()\n",
    "result = eval(model)\n",
    "\n",
    "df = pd.DataFrame([r.model_dump() for r in result])\n",
    "df.mean(numeric_only=True)"
   ]
  }
 ],
 "metadata": {
  "kernelspec": {
   "display_name": "Python 3",
   "language": "python",
   "name": "python3"
  },
  "language_info": {
   "codemirror_mode": {
    "name": "ipython",
    "version": 3
   },
   "file_extension": ".py",
   "mimetype": "text/x-python",
   "name": "python",
   "nbconvert_exporter": "python",
   "pygments_lexer": "ipython3",
   "version": "3.12.7"
  }
 },
 "nbformat": 4,
 "nbformat_minor": 2
}
